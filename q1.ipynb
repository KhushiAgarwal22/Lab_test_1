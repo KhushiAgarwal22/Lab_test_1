{
 "cells": [
  {
   "cell_type": "code",
   "execution_count": 40,
   "id": "6e775975",
   "metadata": {},
   "outputs": [],
   "source": [
    "import numpy as np\n",
    "import matplotlib.pyplot as plt"
   ]
  },
  {
   "cell_type": "code",
   "execution_count": 41,
   "id": "0cb5779e",
   "metadata": {},
   "outputs": [],
   "source": [
    "species=np.array([\"lion\",\"elephant\",\"zebra\"])\n",
    "population=[]"
   ]
  },
  {
   "cell_type": "code",
   "execution_count": 42,
   "id": "0e00ae84",
   "metadata": {},
   "outputs": [
    {
     "name": "stdout",
     "output_type": "stream",
     "text": [
      "Enter 10 yr population for lion : \n",
      "10\n",
      "20\n",
      "34\n",
      "34\n",
      "25\n",
      "67\n",
      "78\n",
      "46\n",
      "78\n",
      "78\n",
      "Enter 10 yr population for elephant : \n",
      "3\n",
      "35\n",
      "35\n",
      "33\n",
      "66\n",
      "33\n",
      "67\n",
      "90\n",
      "100\n",
      "120\n",
      "Enter 10 yr population for zebra : \n",
      "20\n",
      "30\n",
      "40\n",
      "50\n",
      "33\n",
      "66\n",
      "33\n",
      "78\n",
      "36\n",
      "46\n"
     ]
    }
   ],
   "source": [
    "for spe in species:\n",
    "    print(\"Enter 10 yr population for\",spe,\": \")\n",
    "    tmp=[]\n",
    "    for i in range(0,10):\n",
    "        t=int(input())\n",
    "        tmp.append(t)\n",
    "    population.append(tmp)\n",
    "populations=np.array(population)"
   ]
  },
  {
   "cell_type": "markdown",
   "id": "c3e517e5",
   "metadata": {},
   "source": [
    "# a) Total population , Yearly growth avg"
   ]
  },
  {
   "cell_type": "code",
   "execution_count": 43,
   "id": "f3586298",
   "metadata": {},
   "outputs": [],
   "source": [
    "def agr(species):\n",
    "    return np.diff(species) / species[:-1]"
   ]
  },
  {
   "cell_type": "code",
   "execution_count": 18,
   "id": "4c2d6d78",
   "metadata": {},
   "outputs": [
    {
     "name": "stdout",
     "output_type": "stream",
     "text": [
      "Total population of lion is : 6\n",
      "Annual growth rate: 75.0\n",
      "Total population of elephant is : 15\n",
      "Annual growth rate: 22.5\n",
      "Total population of zebra is : 21\n",
      "Annual growth rate: 0.0\n"
     ]
    }
   ],
   "source": [
    "i=0\n",
    "for spe in species:\n",
    "    print(\"Total population of\",spe,\"is :\",populations[i].sum())\n",
    "    print(\"Average Annual growth rate:\",agr(populations[i]).mean())\n",
    "    i=i+1\n"
   ]
  },
  {
   "cell_type": "markdown",
   "id": "31ae7703",
   "metadata": {},
   "source": [
    "# b) year over year change"
   ]
  },
  {
   "cell_type": "code",
   "execution_count": 21,
   "id": "bcd04fe0",
   "metadata": {},
   "outputs": [],
   "source": [
    "def yoy(species):\n",
    "    return (np.diff(species) / species[:-1])*100"
   ]
  },
  {
   "cell_type": "code",
   "execution_count": 22,
   "id": "ce977fe4",
   "metadata": {},
   "outputs": [
    {
     "name": "stdout",
     "output_type": "stream",
     "text": [
      "Year over year growth rate in percentage for lion is: [100.  50.]\n",
      "Year over year growth rate in percentage for elephant is: [25. 20.]\n",
      "Year over year growth rate in percentage for zebra is: [0. 0.]\n"
     ]
    }
   ],
   "source": [
    "i=0\n",
    "for spe in species:\n",
    "    print(\"Year over year growth rate in percentage for\",spe,\"is:\",yoy(populations[i]))\n",
    "    i=i+1"
   ]
  },
  {
   "cell_type": "markdown",
   "id": "fb38ed79",
   "metadata": {},
   "source": [
    "# c) Visualize population"
   ]
  },
  {
   "cell_type": "code",
   "execution_count": 35,
   "id": "705811d8",
   "metadata": {},
   "outputs": [
    {
     "data": {
      "image/png": "[encoded data removed]",
      "text/plain": [
       "<Figure size 640x480 with 1 Axes>"
      ]
     },
     "metadata": {},
     "output_type": "display_data"
    }
   ],
   "source": [
    "j=0\n",
    "years=[1,2,3,4,5,6,7,8,9,10]\n",
    "for spe in species:\n",
    "    plt.plot(populations[j])\n",
    "    plt.xlabel(\"years\")\n",
    "    plt.ylabel(\"populations\")\n",
    "    j=j+1"
   ]
  },
  {
   "cell_type": "code",
   "execution_count": 44,
   "id": "6e4643ee",
   "metadata": {},
   "outputs": [
    {
     "name": "stdout",
     "output_type": "stream",
     "text": [
      "['elephant']\n"
     ]
    }
   ],
   "source": [
    "avg=[]\n",
    "i=0\n",
    "for spe in species:\n",
    "    avg.append(agr(populations[i]).mean())\n",
    "    i=i+1\n",
    "avgs=np.array(avg)\n",
    "idx=np.where(avgs==avgs.max())\n",
    "print(species[idx])"
   ]
  },
  {
   "cell_type": "code",
   "execution_count": null,
   "id": "e78f77e3",
   "metadata": {},
   "outputs": [],
   "source": []
  }
 ],
 "metadata": {
  "kernelspec": {
   "display_name": "Python 3 (ipykernel)",
   "language": "python",
   "name": "python3"
  },
  "language_info": {
   "codemirror_mode": {
    "name": "ipython",
    "version": 3
   },
   "file_extension": ".py",
   "mimetype": "text/x-python",
   "name": "python",
   "nbconvert_exporter": "python",
   "pygments_lexer": "ipython3",
   "version": "3.11.5"
  }
 },
 "nbformat": 4,
 "nbformat_minor": 5
}
